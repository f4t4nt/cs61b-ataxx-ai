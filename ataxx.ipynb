{
 "cells": [
  {
   "cell_type": "code",
   "execution_count": 3,
   "metadata": {},
   "outputs": [],
   "source": [
    "import coax\n",
    "import gym\n",
    "import gym_ataxx\n",
    "import haiku as hk\n",
    "import jax\n",
    "import jax.numpy as jnp\n",
    "from optax import adam"
   ]
  },
  {
   "cell_type": "code",
   "execution_count": 4,
   "metadata": {},
   "outputs": [
    {
     "name": "stderr",
     "output_type": "stream",
     "text": [
      "WARNING:absl:No GPU/TPU found, falling back to CPU. (Set TF_CPP_MIN_LOG_LEVEL=0 and rerun for more info.)\n"
     ]
    }
   ],
   "source": [
    "# env with preprocessing\n",
    "env = gym.make('ataxx-v0')  # AtariPreprocessing will do frame skipping\n",
    "# env = gym.wrappers.AtariPreprocessing(env)\n",
    "# env = coax.wrappers.FrameStacking(env, num_frames=3)\n",
    "# env = coax.wrappers.TrainMonitor(env, name=name, tensorboard_dir=f\"./data/tensorboard/{name}\")\n",
    "\n",
    "\n",
    "def func(S, is_training):\n",
    "    \"\"\" type-2 q-function: s -> q(s,.) \"\"\"\n",
    "    seq = hk.Sequential((\n",
    "        # coax.utils.diff_transform,\n",
    "        # hk.Conv2D(16, kernel_shape = 8, stride = 4), jax.nn.relu,\n",
    "        # hk.Conv2D(32, kernel_shape = 4, stride = 2), jax.nn.relu,\n",
    "        # hk.Flatten(),\n",
    "        # hk.Linear(256), jax.nn.relu,\n",
    "        hk.Linear(env.action_space.n, w_init = jnp.zeros),\n",
    "    ))\n",
    "    X = jnp.stack(S, axis = -1) # stack frames\n",
    "    return seq(X[0])\n",
    "\n",
    "\n",
    "# function approximator\n",
    "q = coax.Q(func, env)\n",
    "pi = coax.EpsilonGreedy(q, epsilon = 1)\n",
    "\n",
    "# target network\n",
    "q_targ = q.copy()\n",
    "\n",
    "# updater\n",
    "qlearning = coax.td_learning.QLearning(q, q_targ = q_targ, optimizer=adam(3e-4))\n",
    "\n",
    "# reward tracer and replay buffer\n",
    "tracer = coax.reward_tracing.NStep(n = 1, gamma = 0.99)\n",
    "buffer = coax.experience_replay.SimpleReplayBuffer(capacity = 1000)\n",
    "\n",
    "\n",
    "# DQN exploration schedule (stepwise linear annealing)\n",
    "epsilon = coax.utils.StepwiseLinearFunction((0, 1), (1000, 0.1), (2000, 0.01))\n",
    "\n",
    "\n",
    "win, lose, draw = 0, 0, 0"
   ]
  },
  {
   "cell_type": "code",
   "execution_count": 5,
   "metadata": {},
   "outputs": [
    {
     "name": "stdout",
     "output_type": "stream",
     "text": [
      "7 ○ - - - - - ●\n",
      "6 ■ ■ - - - ■ ■\n",
      "5 - ■ - ■ - ■ -\n",
      "4 ■ - - - - - ■\n",
      "3 ● ■ - ■ - ■ ○\n",
      "2 ■ ■ - - - ■ ■\n",
      "1 - - - - - - -\n",
      "  a b c d e f g\n",
      "○ 2         2 ●\n",
      "\n",
      "7 - - - - - - ●\n",
      "6 ■ ■ - - - ■ ■\n",
      "5 - ■ ○ ■ - ■ -\n",
      "4 ■ - - - - - ■\n",
      "3 - ■ - ■ - ■ ○\n",
      "2 ■ ■ - - - ■ ■\n",
      "1 ● - - - - - -\n",
      "  a b c d e f g\n",
      "○ 2         2 ●\n",
      "\n",
      "7 - - - - ● - -\n",
      "6 ■ ■ - - - ■ ■\n",
      "5 ○ ■ - ■ - ■ -\n",
      "4 ■ - - - - - ■\n",
      "3 - ■ - ■ - ■ ○\n",
      "2 ■ ■ - - - ■ ■\n",
      "1 ● - - - - - -\n",
      "  a b c d e f g\n",
      "○ 2         2 ●\n",
      "\n",
      "7 - - - - ● - -\n",
      "6 ■ ■ - - - ■ ■\n",
      "5 - ■ ○ ■ - ■ -\n",
      "4 ■ - - - - - ■\n",
      "3 - ■ - ■ - ■ ○\n",
      "2 ■ ■ - - - ■ ■\n",
      "1 ● ● - - - - -\n",
      "  a b c d e f g\n",
      "○ 2         3 ●\n",
      "\n"
     ]
    },
    {
     "ename": "KeyboardInterrupt",
     "evalue": "",
     "output_type": "error",
     "traceback": [
      "\u001b[0;31m---------------------------------------------------------------------------\u001b[0m",
      "\u001b[0;31mKeyboardInterrupt\u001b[0m                         Traceback (most recent call last)",
      "\u001b[1;32m/mnt/c/Users/nisha/Source/repos/ataxx/ataxx.ipynb Cell 3'\u001b[0m in \u001b[0;36m<cell line: 1>\u001b[0;34m()\u001b[0m\n\u001b[1;32m      <a href='vscode-notebook-cell://wsl%2Bubuntu-20.04/mnt/c/Users/nisha/Source/repos/ataxx/ataxx.ipynb#ch0000002vscode-remote?line=2'>3</a>\u001b[0m pi\u001b[39m.\u001b[39mepsilon \u001b[39m=\u001b[39m epsilon(env\u001b[39m.\u001b[39mT)\n\u001b[1;32m      <a href='vscode-notebook-cell://wsl%2Bubuntu-20.04/mnt/c/Users/nisha/Source/repos/ataxx/ataxx.ipynb#ch0000002vscode-remote?line=4'>5</a>\u001b[0m \u001b[39mwhile\u001b[39;00m \u001b[39mTrue\u001b[39;00m:\n\u001b[0;32m----> <a href='vscode-notebook-cell://wsl%2Bubuntu-20.04/mnt/c/Users/nisha/Source/repos/ataxx/ataxx.ipynb#ch0000002vscode-remote?line=5'>6</a>\u001b[0m     action \u001b[39m=\u001b[39m pi(prev_obs)\n\u001b[1;32m      <a href='vscode-notebook-cell://wsl%2Bubuntu-20.04/mnt/c/Users/nisha/Source/repos/ataxx/ataxx.ipynb#ch0000002vscode-remote?line=6'>7</a>\u001b[0m     obs, reward, done, info \u001b[39m=\u001b[39m env\u001b[39m.\u001b[39mstep(action)\n\u001b[1;32m      <a href='vscode-notebook-cell://wsl%2Bubuntu-20.04/mnt/c/Users/nisha/Source/repos/ataxx/ataxx.ipynb#ch0000002vscode-remote?line=8'>9</a>\u001b[0m     \u001b[39m# trace rewards and add transition to replay buffer\u001b[39;00m\n",
      "File \u001b[0;32m~/.local/lib/python3.8/site-packages/coax/_core/value_based_policy.py:93\u001b[0m, in \u001b[0;36mBaseValueBasedPolicy.__call__\u001b[0;34m(self, s, return_logp)\u001b[0m\n\u001b[1;32m     <a href='file:///home/nishant/.local/lib/python3.8/site-packages/coax/_core/value_based_policy.py?line=65'>66</a>\u001b[0m \u001b[39mdef\u001b[39;00m \u001b[39m__call__\u001b[39m(\u001b[39mself\u001b[39m, s, return_logp\u001b[39m=\u001b[39m\u001b[39mFalse\u001b[39;00m):\n\u001b[1;32m     <a href='file:///home/nishant/.local/lib/python3.8/site-packages/coax/_core/value_based_policy.py?line=66'>67</a>\u001b[0m     \u001b[39mr\u001b[39m\u001b[39m\"\"\"\u001b[39;00m\n\u001b[1;32m     <a href='file:///home/nishant/.local/lib/python3.8/site-packages/coax/_core/value_based_policy.py?line=67'>68</a>\u001b[0m \n\u001b[1;32m     <a href='file:///home/nishant/.local/lib/python3.8/site-packages/coax/_core/value_based_policy.py?line=68'>69</a>\u001b[0m \u001b[39m    Sample an action :math:`a\\sim\\pi_q(.|s)`.\u001b[39;00m\n\u001b[0;32m   (...)\u001b[0m\n\u001b[1;32m     <a href='file:///home/nishant/.local/lib/python3.8/site-packages/coax/_core/value_based_policy.py?line=90'>91</a>\u001b[0m \n\u001b[1;32m     <a href='file:///home/nishant/.local/lib/python3.8/site-packages/coax/_core/value_based_policy.py?line=91'>92</a>\u001b[0m \u001b[39m    \"\"\"\u001b[39;00m\n\u001b[0;32m---> <a href='file:///home/nishant/.local/lib/python3.8/site-packages/coax/_core/value_based_policy.py?line=92'>93</a>\u001b[0m     \u001b[39mreturn\u001b[39;00m \u001b[39msuper\u001b[39;49m()\u001b[39m.\u001b[39;49m\u001b[39m__call__\u001b[39;49m(s, return_logp\u001b[39m=\u001b[39;49mreturn_logp)\n",
      "File \u001b[0;32m~/.local/lib/python3.8/site-packages/coax/_core/base_stochastic_func_type2.py:31\u001b[0m, in \u001b[0;36mStochasticFuncType2Mixin.__call__\u001b[0;34m(self, s, return_logp)\u001b[0m\n\u001b[1;32m     <a href='file:///home/nishant/.local/lib/python3.8/site-packages/coax/_core/base_stochastic_func_type2.py?line=29'>30</a>\u001b[0m \u001b[39mdef\u001b[39;00m \u001b[39m__call__\u001b[39m(\u001b[39mself\u001b[39m, s, return_logp\u001b[39m=\u001b[39m\u001b[39mFalse\u001b[39;00m):\n\u001b[0;32m---> <a href='file:///home/nishant/.local/lib/python3.8/site-packages/coax/_core/base_stochastic_func_type2.py?line=30'>31</a>\u001b[0m     S \u001b[39m=\u001b[39m \u001b[39mself\u001b[39;49m\u001b[39m.\u001b[39;49mobservation_preprocessor(\u001b[39mself\u001b[39;49m\u001b[39m.\u001b[39;49mrng, s)\n\u001b[1;32m     <a href='file:///home/nishant/.local/lib/python3.8/site-packages/coax/_core/base_stochastic_func_type2.py?line=31'>32</a>\u001b[0m     X, logP \u001b[39m=\u001b[39m \u001b[39mself\u001b[39m\u001b[39m.\u001b[39msample_func(\u001b[39mself\u001b[39m\u001b[39m.\u001b[39mparams, \u001b[39mself\u001b[39m\u001b[39m.\u001b[39mfunction_state, \u001b[39mself\u001b[39m\u001b[39m.\u001b[39mrng, S)\n\u001b[1;32m     <a href='file:///home/nishant/.local/lib/python3.8/site-packages/coax/_core/base_stochastic_func_type2.py?line=32'>33</a>\u001b[0m     x \u001b[39m=\u001b[39m \u001b[39mself\u001b[39m\u001b[39m.\u001b[39mproba_dist\u001b[39m.\u001b[39mpostprocess_variate(\u001b[39mself\u001b[39m\u001b[39m.\u001b[39mrng, X)\n",
      "File \u001b[0;32m~/.local/lib/python3.8/site-packages/coax/utils/_array.py:339\u001b[0m, in \u001b[0;36mdefault_preprocessor.<locals>.func\u001b[0;34m(rng, X)\u001b[0m\n\u001b[1;32m    <a href='file:///home/nishant/.local/lib/python3.8/site-packages/coax/utils/_array.py?line=336'>337</a>\u001b[0m \u001b[39mdef\u001b[39;00m \u001b[39mfunc\u001b[39m(rng, X):\n\u001b[1;32m    <a href='file:///home/nishant/.local/lib/python3.8/site-packages/coax/utils/_array.py?line=337'>338</a>\u001b[0m     rngs \u001b[39m=\u001b[39m hk\u001b[39m.\u001b[39mPRNGSequence(rng)\n\u001b[0;32m--> <a href='file:///home/nishant/.local/lib/python3.8/site-packages/coax/utils/_array.py?line=338'>339</a>\u001b[0m     \u001b[39mreturn\u001b[39;00m [\n\u001b[1;32m    <a href='file:///home/nishant/.local/lib/python3.8/site-packages/coax/utils/_array.py?line=339'>340</a>\u001b[0m         default_preprocessor(gym\u001b[39m.\u001b[39mspaces\u001b[39m.\u001b[39mDiscrete(n))(\u001b[39mnext\u001b[39m(rngs), X[i])\n\u001b[1;32m    <a href='file:///home/nishant/.local/lib/python3.8/site-packages/coax/utils/_array.py?line=340'>341</a>\u001b[0m         \u001b[39mfor\u001b[39;00m i, n \u001b[39min\u001b[39;00m \u001b[39menumerate\u001b[39m(space\u001b[39m.\u001b[39mnvec)]\n",
      "File \u001b[0;32m~/.local/lib/python3.8/site-packages/coax/utils/_array.py:340\u001b[0m, in \u001b[0;36m<listcomp>\u001b[0;34m(.0)\u001b[0m\n\u001b[1;32m    <a href='file:///home/nishant/.local/lib/python3.8/site-packages/coax/utils/_array.py?line=336'>337</a>\u001b[0m \u001b[39mdef\u001b[39;00m \u001b[39mfunc\u001b[39m(rng, X):\n\u001b[1;32m    <a href='file:///home/nishant/.local/lib/python3.8/site-packages/coax/utils/_array.py?line=337'>338</a>\u001b[0m     rngs \u001b[39m=\u001b[39m hk\u001b[39m.\u001b[39mPRNGSequence(rng)\n\u001b[1;32m    <a href='file:///home/nishant/.local/lib/python3.8/site-packages/coax/utils/_array.py?line=338'>339</a>\u001b[0m     \u001b[39mreturn\u001b[39;00m [\n\u001b[0;32m--> <a href='file:///home/nishant/.local/lib/python3.8/site-packages/coax/utils/_array.py?line=339'>340</a>\u001b[0m         default_preprocessor(gym\u001b[39m.\u001b[39mspaces\u001b[39m.\u001b[39mDiscrete(n))(\u001b[39mnext\u001b[39m(rngs), X[i])\n\u001b[1;32m    <a href='file:///home/nishant/.local/lib/python3.8/site-packages/coax/utils/_array.py?line=340'>341</a>\u001b[0m         \u001b[39mfor\u001b[39;00m i, n \u001b[39min\u001b[39;00m \u001b[39menumerate\u001b[39m(space\u001b[39m.\u001b[39mnvec)]\n",
      "File \u001b[0;32m~/.local/lib/python3.8/site-packages/jax/_src/numpy/lax_numpy.py:4252\u001b[0m, in \u001b[0;36m_rewriting_take\u001b[0;34m(arr, idx, indices_are_sorted, unique_indices, mode, fill_value)\u001b[0m\n\u001b[1;32m   <a href='file:///home/nishant/.local/lib/python3.8/site-packages/jax/_src/numpy/lax_numpy.py?line=4249'>4250</a>\u001b[0m arr \u001b[39m=\u001b[39m asarray(arr)\n\u001b[1;32m   <a href='file:///home/nishant/.local/lib/python3.8/site-packages/jax/_src/numpy/lax_numpy.py?line=4250'>4251</a>\u001b[0m treedef, static_idx, dynamic_idx \u001b[39m=\u001b[39m _split_index_for_jit(idx, arr\u001b[39m.\u001b[39mshape)\n\u001b[0;32m-> <a href='file:///home/nishant/.local/lib/python3.8/site-packages/jax/_src/numpy/lax_numpy.py?line=4251'>4252</a>\u001b[0m \u001b[39mreturn\u001b[39;00m _gather(arr, treedef, static_idx, dynamic_idx, indices_are_sorted,\n\u001b[1;32m   <a href='file:///home/nishant/.local/lib/python3.8/site-packages/jax/_src/numpy/lax_numpy.py?line=4252'>4253</a>\u001b[0m                unique_indices, mode, fill_value)\n",
      "File \u001b[0;32m~/.local/lib/python3.8/site-packages/jax/_src/numpy/lax_numpy.py:4261\u001b[0m, in \u001b[0;36m_gather\u001b[0;34m(arr, treedef, static_idx, dynamic_idx, indices_are_sorted, unique_indices, mode, fill_value)\u001b[0m\n\u001b[1;32m   <a href='file:///home/nishant/.local/lib/python3.8/site-packages/jax/_src/numpy/lax_numpy.py?line=4257'>4258</a>\u001b[0m \u001b[39mdef\u001b[39;00m \u001b[39m_gather\u001b[39m(arr, treedef, static_idx, dynamic_idx, indices_are_sorted,\n\u001b[1;32m   <a href='file:///home/nishant/.local/lib/python3.8/site-packages/jax/_src/numpy/lax_numpy.py?line=4258'>4259</a>\u001b[0m             unique_indices, mode, fill_value):\n\u001b[1;32m   <a href='file:///home/nishant/.local/lib/python3.8/site-packages/jax/_src/numpy/lax_numpy.py?line=4259'>4260</a>\u001b[0m   idx \u001b[39m=\u001b[39m _merge_static_and_dynamic_indices(treedef, static_idx, dynamic_idx)\n\u001b[0;32m-> <a href='file:///home/nishant/.local/lib/python3.8/site-packages/jax/_src/numpy/lax_numpy.py?line=4260'>4261</a>\u001b[0m   indexer \u001b[39m=\u001b[39m _index_to_gather(shape(arr), idx)  \u001b[39m# shared with _scatter_update\u001b[39;00m\n\u001b[1;32m   <a href='file:///home/nishant/.local/lib/python3.8/site-packages/jax/_src/numpy/lax_numpy.py?line=4261'>4262</a>\u001b[0m   y \u001b[39m=\u001b[39m arr\n\u001b[1;32m   <a href='file:///home/nishant/.local/lib/python3.8/site-packages/jax/_src/numpy/lax_numpy.py?line=4263'>4264</a>\u001b[0m   \u001b[39mif\u001b[39;00m fill_value \u001b[39mis\u001b[39;00m \u001b[39mnot\u001b[39;00m \u001b[39mNone\u001b[39;00m:\n",
      "File \u001b[0;32m~/.local/lib/python3.8/site-packages/jax/_src/numpy/lax_numpy.py:4461\u001b[0m, in \u001b[0;36m_index_to_gather\u001b[0;34m(x_shape, idx, normalize_indices)\u001b[0m\n\u001b[1;32m   <a href='file:///home/nishant/.local/lib/python3.8/site-packages/jax/_src/numpy/lax_numpy.py?line=4457'>4458</a>\u001b[0m \u001b[39mif\u001b[39;00m core\u001b[39m.\u001b[39msymbolic_equal_dim(x_shape[x_axis], \u001b[39m0\u001b[39m):\n\u001b[1;32m   <a href='file:///home/nishant/.local/lib/python3.8/site-packages/jax/_src/numpy/lax_numpy.py?line=4458'>4459</a>\u001b[0m   \u001b[39m# XLA gives error when indexing into an axis of size 0\u001b[39;00m\n\u001b[1;32m   <a href='file:///home/nishant/.local/lib/python3.8/site-packages/jax/_src/numpy/lax_numpy.py?line=4459'>4460</a>\u001b[0m   \u001b[39mraise\u001b[39;00m \u001b[39mIndexError\u001b[39;00m(\u001b[39mf\u001b[39m\u001b[39m\"\u001b[39m\u001b[39mindex is out of bounds for axis \u001b[39m\u001b[39m{\u001b[39;00mx_axis\u001b[39m}\u001b[39;00m\u001b[39m with size 0\u001b[39m\u001b[39m\"\u001b[39m)\n\u001b[0;32m-> <a href='file:///home/nishant/.local/lib/python3.8/site-packages/jax/_src/numpy/lax_numpy.py?line=4460'>4461</a>\u001b[0m i \u001b[39m=\u001b[39m _normalize_index(i, x_shape[x_axis]) \u001b[39mif\u001b[39;00m normalize_indices \u001b[39melse\u001b[39;00m i\n\u001b[1;32m   <a href='file:///home/nishant/.local/lib/python3.8/site-packages/jax/_src/numpy/lax_numpy.py?line=4461'>4462</a>\u001b[0m i \u001b[39m=\u001b[39m lax\u001b[39m.\u001b[39mconvert_element_type(i, index_dtype)\n\u001b[1;32m   <a href='file:///home/nishant/.local/lib/python3.8/site-packages/jax/_src/numpy/lax_numpy.py?line=4462'>4463</a>\u001b[0m gather_indices\u001b[39m.\u001b[39mappend((i, \u001b[39mlen\u001b[39m(gather_indices_shape)))\n",
      "File \u001b[0;32m~/.local/lib/python3.8/site-packages/jax/_src/numpy/lax_numpy.py:4058\u001b[0m, in \u001b[0;36m_normalize_index\u001b[0;34m(index, axis_size)\u001b[0m\n\u001b[1;32m   <a href='file:///home/nishant/.local/lib/python3.8/site-packages/jax/_src/numpy/lax_numpy.py?line=4052'>4053</a>\u001b[0m \u001b[39melse\u001b[39;00m:\n\u001b[1;32m   <a href='file:///home/nishant/.local/lib/python3.8/site-packages/jax/_src/numpy/lax_numpy.py?line=4053'>4054</a>\u001b[0m   axis_size_val \u001b[39m=\u001b[39m lax\u001b[39m.\u001b[39mconvert_element_type(core\u001b[39m.\u001b[39mdimension_as_value(axis_size),\n\u001b[1;32m   <a href='file:///home/nishant/.local/lib/python3.8/site-packages/jax/_src/numpy/lax_numpy.py?line=4054'>4055</a>\u001b[0m                                            _dtype(index))\n\u001b[1;32m   <a href='file:///home/nishant/.local/lib/python3.8/site-packages/jax/_src/numpy/lax_numpy.py?line=4055'>4056</a>\u001b[0m \u001b[39mreturn\u001b[39;00m lax\u001b[39m.\u001b[39mselect(\n\u001b[1;32m   <a href='file:///home/nishant/.local/lib/python3.8/site-packages/jax/_src/numpy/lax_numpy.py?line=4056'>4057</a>\u001b[0m   lax\u001b[39m.\u001b[39mlt(index, _lax_const(index, \u001b[39m0\u001b[39m)),\n\u001b[0;32m-> <a href='file:///home/nishant/.local/lib/python3.8/site-packages/jax/_src/numpy/lax_numpy.py?line=4057'>4058</a>\u001b[0m   lax\u001b[39m.\u001b[39;49madd(index, axis_size_val),\n\u001b[1;32m   <a href='file:///home/nishant/.local/lib/python3.8/site-packages/jax/_src/numpy/lax_numpy.py?line=4058'>4059</a>\u001b[0m   index)\n",
      "File \u001b[0;32m~/.local/lib/python3.8/site-packages/jax/_src/lax/lax.py:403\u001b[0m, in \u001b[0;36madd\u001b[0;34m(x, y)\u001b[0m\n\u001b[1;32m    <a href='file:///home/nishant/.local/lib/python3.8/site-packages/jax/_src/lax/lax.py?line=400'>401</a>\u001b[0m \u001b[39mdef\u001b[39;00m \u001b[39madd\u001b[39m(x: Array, y: Array) \u001b[39m-\u001b[39m\u001b[39m>\u001b[39m Array:\n\u001b[1;32m    <a href='file:///home/nishant/.local/lib/python3.8/site-packages/jax/_src/lax/lax.py?line=401'>402</a>\u001b[0m   \u001b[39mr\u001b[39m\u001b[39m\"\"\"Elementwise addition: :math:`x + y`.\"\"\"\u001b[39;00m\n\u001b[0;32m--> <a href='file:///home/nishant/.local/lib/python3.8/site-packages/jax/_src/lax/lax.py?line=402'>403</a>\u001b[0m   \u001b[39mreturn\u001b[39;00m add_p\u001b[39m.\u001b[39;49mbind(x, y)\n",
      "File \u001b[0;32m~/.local/lib/python3.8/site-packages/jax/core.py:286\u001b[0m, in \u001b[0;36mPrimitive.bind\u001b[0;34m(self, *args, **params)\u001b[0m\n\u001b[1;32m    <a href='file:///home/nishant/.local/lib/python3.8/site-packages/jax/core.py?line=282'>283</a>\u001b[0m \u001b[39mdef\u001b[39;00m \u001b[39mbind\u001b[39m(\u001b[39mself\u001b[39m, \u001b[39m*\u001b[39margs, \u001b[39m*\u001b[39m\u001b[39m*\u001b[39mparams):\n\u001b[1;32m    <a href='file:///home/nishant/.local/lib/python3.8/site-packages/jax/core.py?line=283'>284</a>\u001b[0m   \u001b[39massert\u001b[39;00m (\u001b[39mnot\u001b[39;00m config\u001b[39m.\u001b[39mjax_enable_checks \u001b[39mor\u001b[39;00m\n\u001b[1;32m    <a href='file:///home/nishant/.local/lib/python3.8/site-packages/jax/core.py?line=284'>285</a>\u001b[0m           \u001b[39mall\u001b[39m(\u001b[39misinstance\u001b[39m(arg, Tracer) \u001b[39mor\u001b[39;00m valid_jaxtype(arg) \u001b[39mfor\u001b[39;00m arg \u001b[39min\u001b[39;00m args)), args\n\u001b[0;32m--> <a href='file:///home/nishant/.local/lib/python3.8/site-packages/jax/core.py?line=285'>286</a>\u001b[0m   \u001b[39mreturn\u001b[39;00m \u001b[39mself\u001b[39;49m\u001b[39m.\u001b[39;49mbind_with_trace(find_top_trace(args), args, params)\n",
      "File \u001b[0;32m~/.local/lib/python3.8/site-packages/jax/core.py:289\u001b[0m, in \u001b[0;36mPrimitive.bind_with_trace\u001b[0;34m(self, trace, args, params)\u001b[0m\n\u001b[1;32m    <a href='file:///home/nishant/.local/lib/python3.8/site-packages/jax/core.py?line=287'>288</a>\u001b[0m \u001b[39mdef\u001b[39;00m \u001b[39mbind_with_trace\u001b[39m(\u001b[39mself\u001b[39m, trace, args, params):\n\u001b[0;32m--> <a href='file:///home/nishant/.local/lib/python3.8/site-packages/jax/core.py?line=288'>289</a>\u001b[0m   out \u001b[39m=\u001b[39m trace\u001b[39m.\u001b[39;49mprocess_primitive(\u001b[39mself\u001b[39;49m, \u001b[39mmap\u001b[39;49m(trace\u001b[39m.\u001b[39;49mfull_raise, args), params)\n\u001b[1;32m    <a href='file:///home/nishant/.local/lib/python3.8/site-packages/jax/core.py?line=289'>290</a>\u001b[0m   \u001b[39mreturn\u001b[39;00m \u001b[39mmap\u001b[39m(full_lower, out) \u001b[39mif\u001b[39;00m \u001b[39mself\u001b[39m\u001b[39m.\u001b[39mmultiple_results \u001b[39melse\u001b[39;00m full_lower(out)\n",
      "File \u001b[0;32m~/.local/lib/python3.8/site-packages/jax/core.py:611\u001b[0m, in \u001b[0;36mEvalTrace.process_primitive\u001b[0;34m(self, primitive, tracers, params)\u001b[0m\n\u001b[1;32m    <a href='file:///home/nishant/.local/lib/python3.8/site-packages/jax/core.py?line=609'>610</a>\u001b[0m \u001b[39mdef\u001b[39;00m \u001b[39mprocess_primitive\u001b[39m(\u001b[39mself\u001b[39m, primitive, tracers, params):\n\u001b[0;32m--> <a href='file:///home/nishant/.local/lib/python3.8/site-packages/jax/core.py?line=610'>611</a>\u001b[0m   \u001b[39mreturn\u001b[39;00m primitive\u001b[39m.\u001b[39;49mimpl(\u001b[39m*\u001b[39;49mtracers, \u001b[39m*\u001b[39;49m\u001b[39m*\u001b[39;49mparams)\n",
      "File \u001b[0;32m~/.local/lib/python3.8/site-packages/jax/_src/dispatch.py:94\u001b[0m, in \u001b[0;36mapply_primitive\u001b[0;34m(prim, *args, **params)\u001b[0m\n\u001b[1;32m     <a href='file:///home/nishant/.local/lib/python3.8/site-packages/jax/_src/dispatch.py?line=90'>91</a>\u001b[0m \u001b[39m\"\"\"Impl rule that compiles and runs a single primitive 'prim' using XLA.\"\"\"\u001b[39;00m\n\u001b[1;32m     <a href='file:///home/nishant/.local/lib/python3.8/site-packages/jax/_src/dispatch.py?line=91'>92</a>\u001b[0m compiled_fun \u001b[39m=\u001b[39m xla_primitive_callable(prim, \u001b[39m*\u001b[39munsafe_map(arg_spec, args),\n\u001b[1;32m     <a href='file:///home/nishant/.local/lib/python3.8/site-packages/jax/_src/dispatch.py?line=92'>93</a>\u001b[0m                                       \u001b[39m*\u001b[39m\u001b[39m*\u001b[39mparams)\n\u001b[0;32m---> <a href='file:///home/nishant/.local/lib/python3.8/site-packages/jax/_src/dispatch.py?line=93'>94</a>\u001b[0m \u001b[39mreturn\u001b[39;00m compiled_fun(\u001b[39m*\u001b[39;49margs)\n",
      "File \u001b[0;32m~/.local/lib/python3.8/site-packages/jax/_src/dispatch.py:114\u001b[0m, in \u001b[0;36mxla_primitive_callable.<locals>.<lambda>\u001b[0;34m(*args, **kw)\u001b[0m\n\u001b[1;32m    <a href='file:///home/nishant/.local/lib/python3.8/site-packages/jax/_src/dispatch.py?line=110'>111</a>\u001b[0m compiled \u001b[39m=\u001b[39m _xla_callable_uncached(lu\u001b[39m.\u001b[39mwrap_init(prim_fun), device, \u001b[39mNone\u001b[39;00m,\n\u001b[1;32m    <a href='file:///home/nishant/.local/lib/python3.8/site-packages/jax/_src/dispatch.py?line=111'>112</a>\u001b[0m                                   prim\u001b[39m.\u001b[39mname, donated_invars, \u001b[39m*\u001b[39marg_specs)\n\u001b[1;32m    <a href='file:///home/nishant/.local/lib/python3.8/site-packages/jax/_src/dispatch.py?line=112'>113</a>\u001b[0m \u001b[39mif\u001b[39;00m \u001b[39mnot\u001b[39;00m prim\u001b[39m.\u001b[39mmultiple_results:\n\u001b[0;32m--> <a href='file:///home/nishant/.local/lib/python3.8/site-packages/jax/_src/dispatch.py?line=113'>114</a>\u001b[0m   \u001b[39mreturn\u001b[39;00m \u001b[39mlambda\u001b[39;00m \u001b[39m*\u001b[39margs, \u001b[39m*\u001b[39m\u001b[39m*\u001b[39mkw: compiled(\u001b[39m*\u001b[39;49margs, \u001b[39m*\u001b[39;49m\u001b[39m*\u001b[39;49mkw)[\u001b[39m0\u001b[39m]\n\u001b[1;32m    <a href='file:///home/nishant/.local/lib/python3.8/site-packages/jax/_src/dispatch.py?line=114'>115</a>\u001b[0m \u001b[39melse\u001b[39;00m:\n\u001b[1;32m    <a href='file:///home/nishant/.local/lib/python3.8/site-packages/jax/_src/dispatch.py?line=115'>116</a>\u001b[0m   \u001b[39mreturn\u001b[39;00m compiled\n",
      "File \u001b[0;32m~/.local/lib/python3.8/site-packages/jax/_src/dispatch.py:444\u001b[0m, in \u001b[0;36m_execute_compiled\u001b[0;34m(name, compiled, output_buffer_counts, result_handlers, kept_var_idx, *args)\u001b[0m\n\u001b[1;32m    <a href='file:///home/nishant/.local/lib/python3.8/site-packages/jax/_src/dispatch.py?line=440'>441</a>\u001b[0m device, \u001b[39m=\u001b[39m compiled\u001b[39m.\u001b[39mlocal_devices()\n\u001b[1;32m    <a href='file:///home/nishant/.local/lib/python3.8/site-packages/jax/_src/dispatch.py?line=441'>442</a>\u001b[0m input_bufs \u001b[39m=\u001b[39m util\u001b[39m.\u001b[39mflatten(\n\u001b[1;32m    <a href='file:///home/nishant/.local/lib/python3.8/site-packages/jax/_src/dispatch.py?line=442'>443</a>\u001b[0m     device_put(x, device) \u001b[39mfor\u001b[39;00m i, x \u001b[39min\u001b[39;00m \u001b[39menumerate\u001b[39m(args) \u001b[39mif\u001b[39;00m i \u001b[39min\u001b[39;00m kept_var_idx)\n\u001b[0;32m--> <a href='file:///home/nishant/.local/lib/python3.8/site-packages/jax/_src/dispatch.py?line=443'>444</a>\u001b[0m out_bufs \u001b[39m=\u001b[39m compiled\u001b[39m.\u001b[39;49mexecute(input_bufs)\n\u001b[1;32m    <a href='file:///home/nishant/.local/lib/python3.8/site-packages/jax/_src/dispatch.py?line=444'>445</a>\u001b[0m check_special(name, out_bufs)\n\u001b[1;32m    <a href='file:///home/nishant/.local/lib/python3.8/site-packages/jax/_src/dispatch.py?line=445'>446</a>\u001b[0m \u001b[39mif\u001b[39;00m output_buffer_counts \u001b[39mis\u001b[39;00m \u001b[39mNone\u001b[39;00m:\n",
      "\u001b[0;31mKeyboardInterrupt\u001b[0m: "
     ]
    }
   ],
   "source": [
    "while env.T < 3000:\n",
    "    prev_obs = env.reset(wall_p = 0.2)\n",
    "    pi.epsilon = epsilon(env.T)\n",
    "\n",
    "    while True:\n",
    "        action = pi(prev_obs)\n",
    "        obs, reward, done, info = env.step(action)\n",
    "\n",
    "        # trace rewards and add transition to replay buffer\n",
    "        tracer.add(prev_obs, action, reward, done)\n",
    "        while tracer:\n",
    "            buffer.add(tracer.pop())\n",
    "\n",
    "        # learn\n",
    "        if len(buffer) > 50000:  # buffer warm-up\n",
    "            metrics = qlearning.update(buffer.sample(batch_size=32))\n",
    "            env.record_metrics(metrics)\n",
    "\n",
    "        if env.T % 10000 == 0:\n",
    "            q_targ.soft_update(q, tau = 1)\n",
    "\n",
    "        if not jnp.array_equal(prev_obs, obs):\n",
    "            env.render()\n",
    "\n",
    "        if done:\n",
    "            if info[\"winner\"] == \"white\":\n",
    "                win += 1\n",
    "            elif info[\"winner\"] == \"black\":\n",
    "                lose += 1\n",
    "            elif info[\"winner\"] == \"draw\":\n",
    "                draw += 1\n",
    "            break\n",
    "\n",
    "        prev_obs = obs\n",
    "\n",
    "    print('W', win, 'L', lose, 'D', draw)"
   ]
  }
 ],
 "metadata": {
  "interpreter": {
   "hash": "916dbcbb3f70747c44a77c7bcd40155683ae19c65e1c03b4aa3499c5328201f1"
  },
  "kernelspec": {
   "display_name": "Python 3.8.10 64-bit",
   "language": "python",
   "name": "python3"
  },
  "language_info": {
   "codemirror_mode": {
    "name": "ipython",
    "version": 3
   },
   "file_extension": ".py",
   "mimetype": "text/x-python",
   "name": "python",
   "nbconvert_exporter": "python",
   "pygments_lexer": "ipython3",
   "version": "3.8.10"
  },
  "orig_nbformat": 4
 },
 "nbformat": 4,
 "nbformat_minor": 2
}
